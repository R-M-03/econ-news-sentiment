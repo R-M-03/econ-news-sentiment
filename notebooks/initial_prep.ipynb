{
 "cells": [
  {
   "cell_type": "code",
   "execution_count": 2,
   "id": "2ec76b98-312c-4ed3-9605-6d8e75eefffb",
   "metadata": {},
   "outputs": [],
   "source": [
    "import pandas as pd\n",
    "from textblob import TextBlob"
   ]
  },
  {
   "cell_type": "code",
   "execution_count": 3,
   "id": "c505c145-35f0-4632-8e27-aecbc07745ad",
   "metadata": {},
   "outputs": [
    {
     "name": "stdout",
     "output_type": "stream",
     "text": [
      "                                               Title        Date       CP\n",
      "0   JPMorgan Predicts 2008 Will Be \"Nothing But Net\"  2008-01-02  1447.16\n",
      "1  Dow Tallies Biggest First-session-of-year Poin...  2008-01-02  1447.16\n",
      "2                   2008 predictions for the S&P 500  2008-01-02  1447.16\n",
      "3  U.S. Stocks Higher After Economic Data, Monsan...  2008-01-03  1447.16\n",
      "4  U.S. Stocks Climb As Hopes Increase For More F...  2008-01-07  1416.18\n"
     ]
    }
   ],
   "source": [
    "df = pd.read_csv(\"../data/sp500_headlines.csv\")\n",
    "print(df.head())"
   ]
  },
  {
   "cell_type": "code",
   "execution_count": 4,
   "id": "87a7eebf-b8c0-45df-b5ef-4ad3d0c6413f",
   "metadata": {},
   "outputs": [
    {
     "name": "stdout",
     "output_type": "stream",
     "text": [
      "                                               Title        Date       CP  \\\n",
      "0   JPMorgan Predicts 2008 Will Be \"Nothing But Net\"  2008-01-02  1447.16   \n",
      "1  Dow Tallies Biggest First-session-of-year Poin...  2008-01-02  1447.16   \n",
      "2                   2008 predictions for the S&P 500  2008-01-02  1447.16   \n",
      "3  U.S. Stocks Higher After Economic Data, Monsan...  2008-01-03  1447.16   \n",
      "4  U.S. Stocks Climb As Hopes Increase For More F...  2008-01-07  1416.18   \n",
      "\n",
      "   sentiment  \n",
      "0      0.000  \n",
      "1      0.000  \n",
      "2      0.000  \n",
      "3      0.225  \n",
      "4      0.500  \n"
     ]
    }
   ],
   "source": [
    "# Computing sentiment polarity\n",
    "df['sentiment'] = df['Title'].apply(lambda x: TextBlob(x).sentiment.polarity)\n",
    "\n",
    "# Aggregate sentiment by day\n",
    "daily_sentiment = df.groupby('Date')['sentiment'].mean().reset_index()\n",
    "\n",
    "print(df.head())"
   ]
  },
  {
   "cell_type": "code",
   "execution_count": 5,
   "id": "55d8c9f0-455c-43f8-ade4-94693af9e28d",
   "metadata": {},
   "outputs": [
    {
     "name": "stdout",
     "output_type": "stream",
     "text": [
      "         Date  sentiment       CP  sentiment_shifted    return\n",
      "0  2008-01-02      0.000  1447.16                NaN       NaN\n",
      "1  2008-01-03      0.225  1447.16              0.000  0.000000\n",
      "2  2008-01-07      0.500  1416.18              0.225 -0.021407\n",
      "3  2008-01-09      0.000  1409.13              0.500 -0.004978\n",
      "4  2008-01-10      0.075  1420.33              0.000  0.007948\n"
     ]
    }
   ],
   "source": [
    "# Aggregate sentiment by day\n",
    "daily_sentiment = df.groupby('Date').agg({'sentiment': 'mean', 'CP':'first'}).reset_index()\n",
    "\n",
    "# Whether today's sentiment predicts tomorrow's values\n",
    "daily_sentiment['sentiment_shifted'] = daily_sentiment['sentiment'].shift(1)\n",
    "\n",
    "# Daily returns - % change in price from previous day\n",
    "daily_sentiment['return'] = daily_sentiment['CP'].pct_change()\n",
    "\n",
    "print(daily_sentiment.head())"
   ]
  },
  {
   "cell_type": "code",
   "execution_count": 9,
   "id": "3668df98-1dcc-46c7-a39e-585859d68ac3",
   "metadata": {},
   "outputs": [],
   "source": [
    "daily_sentiment.to_csv(\"../data/daily_sentiment.csv\", index=False)\n"
   ]
  }
 ],
 "metadata": {
  "kernelspec": {
   "display_name": "Python 3 (ipykernel)",
   "language": "python",
   "name": "python3"
  },
  "language_info": {
   "codemirror_mode": {
    "name": "ipython",
    "version": 3
   },
   "file_extension": ".py",
   "mimetype": "text/x-python",
   "name": "python",
   "nbconvert_exporter": "python",
   "pygments_lexer": "ipython3",
   "version": "3.12.1"
  }
 },
 "nbformat": 4,
 "nbformat_minor": 5
}
