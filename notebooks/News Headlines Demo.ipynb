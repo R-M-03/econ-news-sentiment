{
 "cells": [
  {
   "cell_type": "code",
   "execution_count": 27,
   "id": "2ec76b98-312c-4ed3-9605-6d8e75eefffb",
   "metadata": {},
   "outputs": [],
   "source": [
    "import pandas as pd\n",
    "from textblob import TextBlob"
   ]
  },
  {
   "cell_type": "code",
   "execution_count": 28,
   "id": "317fb805-c3a4-4b45-a6d9-76e6cb72252d",
   "metadata": {},
   "outputs": [
    {
     "name": "stdout",
     "output_type": "stream",
     "text": [
      "                                            headline                date  \\\n",
      "0  Jim Cramer: A better way to invest in the Covi... 2020-07-17 19:51:00   \n",
      "1     Cramer's lightning round: I would own Teradyne 2020-07-17 19:33:00   \n",
      "3  Cramer's week ahead: Big week for earnings, ev... 2020-07-17 19:25:00   \n",
      "4  IQ Capital CEO Keith Bliss says tech and healt... 2020-07-17 16:24:00   \n",
      "5  Wall Street delivered the 'kind of pullback I'... 2020-07-16 19:36:00   \n",
      "\n",
      "                                         Description source  \n",
      "0  \"Mad Money\" host Jim Cramer recommended buying...   CNBC  \n",
      "1  \"Mad Money\" host Jim Cramer rings the lightnin...   CNBC  \n",
      "3  \"We'll pay more for the earnings of the non-Co...   CNBC  \n",
      "4  Keith Bliss, IQ Capital CEO, joins \"Closing Be...   CNBC  \n",
      "5  \"Look for the stocks of high-quality companies...   CNBC  \n"
     ]
    },
    {
     "name": "stderr",
     "output_type": "stream",
     "text": [
      "/var/folders/j9/trfttqbj4552lxmmq30l533w0000gn/T/ipykernel_6388/130039020.py:9: UserWarning: Could not infer format, so each element will be parsed individually, falling back to `dateutil`. To ensure parsing is consistent and as-expected, please specify a format.\n",
      "  cnbc['date'] = pd.to_datetime(cnbc['date'], errors='coerce', dayfirst=True)\n",
      "/var/folders/j9/trfttqbj4552lxmmq30l533w0000gn/T/ipykernel_6388/130039020.py:17: UserWarning: Could not infer format, so each element will be parsed individually, falling back to `dateutil`. To ensure parsing is consistent and as-expected, please specify a format.\n",
      "  guardian['date'] = pd.to_datetime(guardian['date'], errors='coerce', dayfirst=True)\n"
     ]
    }
   ],
   "source": [
    "# --- CNBC ---\n",
    "cnbc = pd.read_csv(\"../data/headlines/cnbc_headlines.csv\")\n",
    "\n",
    "# Rename Columns\n",
    "cnbc = cnbc.rename(columns={\"Headlines\": \"headline\", \"Time\": \"date\"})\n",
    "\n",
    "# Clean and Parse Dates\n",
    "cnbc['date'] = cnbc['date'].str.replace(\"ET\", \"\", regex=False).str.strip()\n",
    "cnbc['date'] = pd.to_datetime(cnbc['date'], errors='coerce', dayfirst=True)\n",
    "\n",
    "# Add source column\n",
    "cnbc['source'] = \"CNBC\"\n",
    "\n",
    "# --- Guardian ---\n",
    "guardian = pd.read_csv(\"../data/headlines/guardian_headlines.csv\")\n",
    "guardian = guardian.rename(columns={\"Headlines\": \"headline\", \"Time\": \"date\"})\n",
    "guardian['date'] = pd.to_datetime(guardian['date'], errors='coerce', dayfirst=True)\n",
    "guardian['source'] = \"Guardian\"\n",
    "\n",
    "# --- Reuters ---\n",
    "reuters = pd.read_csv(\"../data/headlines/reuters_headlines.csv\")\n",
    "reuters = reuters.rename(columns={\"Headlines\": \"headline\", \"Time\": \"date\"})\n",
    "reuters['date'] = pd.to_datetime(reuters['date'], errors='coerce', dayfirst=True)\n",
    "reuters['source'] = \"Reuters\"\n",
    "\n",
    "# --- Combine ---\n",
    "all_news = pd.concat([cnbc, guardian, reuters], ignore_index=True)\n",
    "all_news = all_news.dropna(subset=['date'])\n",
    "\n",
    "print(all_news.head())\n"
   ]
  },
  {
   "cell_type": "code",
   "execution_count": 29,
   "id": "952a36fc-efdf-4bcf-9ba1-5be712f96978",
   "metadata": {},
   "outputs": [],
   "source": [
    "# Ensure dates match stock trading days as news after 4PM affects the next day\n",
    "all_news['date'] = all_news['date'].dt.floor('d')  \n",
    "\n",
    "# Sentiment Analysis using textblob to get sentiment score for each headline\n",
    "def get_sentiment(text):\n",
    "    return TextBlob(text).sentiment.polarity  # between -1 and 1\n",
    "\n",
    "all_news['sentiment'] = all_news['headline'].astype(str).apply(get_sentiment)\n",
    "\n",
    "# Aggregate sentiment by date\n",
    "daily_sentiment = all_news.groupby('date')['sentiment'].mean()\n"
   ]
  },
  {
   "cell_type": "code",
   "execution_count": 32,
   "id": "22dc0570-28d3-439d-a518-b2178478bf8b",
   "metadata": {},
   "outputs": [
    {
     "name": "stderr",
     "output_type": "stream",
     "text": [
      "/var/folders/j9/trfttqbj4552lxmmq30l533w0000gn/T/ipykernel_6388/398077077.py:3: FutureWarning: YF.download() has changed argument auto_adjust default to True\n",
      "  stock = yf.download(\"^GSPC\", start=all_news['date'].min(), end=all_news['date'].max())\n",
      "[*********************100%***********************]  1 of 1 completed"
     ]
    },
    {
     "name": "stdout",
     "output_type": "stream",
     "text": [
      "            Close_^GSPC   High_^GSPC    Low_^GSPC   Open_^GSPC  Volume_^GSPC  \\\n",
      "Date                                                                           \n",
      "2017-12-18  2690.159912  2694.969971  2685.919922  2685.919922    3727770000   \n",
      "2017-12-19  2681.469971  2694.439941  2680.739990  2692.709961    3407680000   \n",
      "2017-12-20  2679.250000  2691.010010  2676.110107  2688.179932    3246230000   \n",
      "2017-12-21  2684.570068  2692.639893  2682.399902  2683.020020    3293130000   \n",
      "2017-12-22  2683.340088  2685.350098  2678.129883  2684.219971    2401030000   \n",
      "\n",
      "              return  sentiment  \n",
      "Date                             \n",
      "2017-12-18       NaN   0.010788  \n",
      "2017-12-19 -0.003230   0.000777  \n",
      "2017-12-20 -0.000828   0.011461  \n",
      "2017-12-21  0.001986   0.009790  \n",
      "2017-12-22 -0.000458   0.026984  \n"
     ]
    },
    {
     "name": "stderr",
     "output_type": "stream",
     "text": [
      "\n"
     ]
    }
   ],
   "source": [
    "import yfinance as yf\n",
    "\n",
    "stock = yf.download(\"^GSPC\", start=all_news['date'].min(), end=all_news['date'].max())\n",
    "\n",
    "# If MultiIndex (e.g., multiple tickers), flatten it\n",
    "if isinstance(stock.columns, pd.MultiIndex):\n",
    "    stock.columns = ['_'.join(col).strip() for col in stock.columns.values]\n",
    "\n",
    "# Now, pick the right Close column\n",
    "close_col = [col for col in stock.columns if \"Close\" in col][0]  # first match\n",
    "stock['return'] = stock[close_col].pct_change()\n",
    "\n",
    "# Merge with daily sentiment\n",
    "merged = stock.merge(daily_sentiment, left_index=True, right_index=True, how='left')\n",
    "print(merged.head())"
   ]
  },
  {
   "cell_type": "code",
   "execution_count": 31,
   "id": "70e76b14-571f-4e60-9a52-0a7134daf163",
   "metadata": {},
   "outputs": [
    {
     "name": "stdout",
     "output_type": "stream",
     "text": [
      "0     Jim Cramer: A better way to invest in the Covi...\n",
      "1        Cramer's lightning round: I would own Teradyne\n",
      "3     Cramer's week ahead: Big week for earnings, ev...\n",
      "4     IQ Capital CEO Keith Bliss says tech and healt...\n",
      "5     Wall Street delivered the 'kind of pullback I'...\n",
      "6     Cramer's lightning round: I would just stay lo...\n",
      "7     Acorns CEO: Parents can turn $5 into five figu...\n",
      "8     Dividend cuts may mean rethinking your retirem...\n",
      "10    StockX has authenticated 1 million Jordan snea...\n",
      "11    Biohaven Pharmaceuticals lands Khloe Kardashia...\n",
      "12         Cramer's lightning round: I like Beyond Meat\n",
      "13    Cramer: We desperately need another round of f...\n",
      "14            Cramer's lightning round: Buy more VMware\n",
      "15    Wall Street did something 'highly unusual' in ...\n",
      "16    Charts suggest the S&P 500 climb will stall ou...\n",
      "17    Salesforce's Marc Benioff: Face masks can end ...\n",
      "18    Crown Castle's 'good story can get even better...\n",
      "19    Ellevest's Sallie Krawcheck says the economic ...\n",
      "20    Cramer's lightning round: Zoom's pullback is a...\n",
      "21    Cramer's earnings watch: 'If the banks get ham...\n",
      "Name: headline, dtype: object\n"
     ]
    }
   ],
   "source": [
    "print(all_news['headline'].head(20))\n"
   ]
  },
  {
   "cell_type": "code",
   "execution_count": null,
   "id": "f0d1cc1b-6c96-4222-a201-0d74dc0e4f06",
   "metadata": {},
   "outputs": [],
   "source": []
  }
 ],
 "metadata": {
  "kernelspec": {
   "display_name": "Python 3 (ipykernel)",
   "language": "python",
   "name": "python3"
  },
  "language_info": {
   "codemirror_mode": {
    "name": "ipython",
    "version": 3
   },
   "file_extension": ".py",
   "mimetype": "text/x-python",
   "name": "python",
   "nbconvert_exporter": "python",
   "pygments_lexer": "ipython3",
   "version": "3.12.1"
  }
 },
 "nbformat": 4,
 "nbformat_minor": 5
}
